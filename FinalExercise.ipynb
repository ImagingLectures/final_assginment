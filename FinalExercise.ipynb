{
 "cells": [
  {
   "cell_type": "markdown",
   "metadata": {},
   "source": [
    "# Final assignment"
   ]
  },
  {
   "cell_type": "markdown",
   "metadata": {},
   "source": [
    "## Load some libraries"
   ]
  },
  {
   "cell_type": "code",
   "execution_count": null,
   "metadata": {
    "collapsed": true
   },
   "outputs": [],
   "source": [
    "import numpy as np\n",
    "import matplotlib.pyplot as plt\n",
    "import skimage.morphology as morph\n",
    "import skimage.measure as measure\n",
    "from skimage import filters\n",
    "from scipy import ndimage\n",
    "%matplotlib inline"
   ]
  },
  {
   "cell_type": "markdown",
   "metadata": {},
   "source": [
    "## Assignment"
   ]
  },
  {
   "cell_type": "markdown",
   "metadata": {},
   "source": [
    "You have an image with round regions that you want to identify and create an image with only these features visible. In this assignment is a review of the lectures and previous assignments understanding the steps and solving the tasks is a good preparation for the exam.\n",
    "\n",
    "1. Histograms\n",
    "2. Filters\n",
    "3. Thresholding\n",
    "4. Cleaning\n",
    "5. Labeling\n",
    "6. Measure region properties\n",
    "7. Classification based on abstract properties\n",
    "8. Item extraction\n"
   ]
  },
  {
   "cell_type": "markdown",
   "metadata": {},
   "source": [
    "### Step 1: Load image\n",
    "Load the image 'psi_slice_noisy.tif' and show it"
   ]
  },
  {
   "cell_type": "code",
   "execution_count": null,
   "metadata": {
    "collapsed": true
   },
   "outputs": [],
   "source": [
    "# your code here"
   ]
  },
  {
   "cell_type": "markdown",
   "metadata": {},
   "source": [
    "### Step 2: Look at the histogram"
   ]
  },
  {
   "cell_type": "markdown",
   "metadata": {},
   "source": [
    "Compute and plot the histogram here"
   ]
  },
  {
   "cell_type": "code",
   "execution_count": 2,
   "metadata": {},
   "outputs": [],
   "source": [
    " # your code here"
   ]
  },
  {
   "cell_type": "markdown",
   "metadata": {},
   "source": [
    "The image looks rather noisy... i.e. it has low SNR. Improve the SNR using a filter. Show the image and its histogram after filtering. The histogram is also incomplete on the left sie, i.e. the noise distribution is truncated."
   ]
  },
  {
   "cell_type": "code",
   "execution_count": null,
   "metadata": {},
   "outputs": [],
   "source": [
    "fimg=              # apply the filter of your choice here\n",
    "plt.subplot(1,2,1)\n",
    "plt.imshow(fimg)\n",
    "\n",
    "plt.subplot(1,2,2)\n",
    "                 # compute and plot the histogram of fimg\n"
   ]
  },
  {
   "cell_type": "markdown",
   "metadata": {},
   "source": [
    "Get a threshold using an automatic method provided by SciKit Image and apply to the image"
   ]
  },
  {
   "cell_type": "code",
   "execution_count": null,
   "metadata": {},
   "outputs": [],
   "source": [
    "otsu =                             # compute the otsu threshold here\n",
    "print('The threshold according to',otsu)\n",
    "bimg =                             # apply the Otsu threshold on fimg here                                    \n",
    "plt.imshow(bimg)\n",
    "plt.title('Otsu')"
   ]
  },
  {
   "cell_type": "markdown",
   "metadata": {},
   "source": [
    "As you see this threshold only separates background from sample. What we need is to compute the threshold from the sample pixels only. The function below helps you doing this."
   ]
  },
  {
   "cell_type": "code",
   "execution_count": null,
   "metadata": {
    "collapsed": true
   },
   "outputs": [],
   "source": [
    "def maskedOtsu(img,mask) :\n",
    "    data=[]\n",
    "    dims=img.shape\n",
    "    for r in np.arange(0,dims[1]) :\n",
    "        for c in np.arange(0,dims[0]) :\n",
    "            if (mask[r,c]!=0) :\n",
    "                data.append(img[r,c])\n",
    "            \n",
    "    ndata=np.asarray(data)\n",
    "    return filters.threshold_otsu(ndata)\n"
   ]
  },
  {
   "cell_type": "markdown",
   "metadata": {},
   "source": [
    "Use the previous bi-level image as mask and find a useful threshold with maskedOtsu. "
   ]
  },
  {
   "cell_type": "code",
   "execution_count": null,
   "metadata": {},
   "outputs": [],
   "source": [
    "otsu2=maskedOtsu(fimg,bimg)\n",
    "bimg2=                    # apply the masked threshold on fimg here\n",
    "\n",
    "plt.imshow(bimg2)"
   ]
  },
  {
   "cell_type": "code",
   "execution_count": null,
   "metadata": {
    "collapsed": true
   },
   "outputs": [],
   "source": []
  },
  {
   "cell_type": "markdown",
   "metadata": {},
   "source": [
    "In bimg2 some pixels are misclassified. Use a morphological operation to clean this."
   ]
  },
  {
   "cell_type": "code",
   "execution_count": null,
   "metadata": {},
   "outputs": [],
   "source": [
    "clean=               # apply your cleaning operation here\n",
    "plt.imshow(clean)"
   ]
  },
  {
   "cell_type": "markdown",
   "metadata": {},
   "source": [
    "### Step 3: Labeling"
   ]
  },
  {
   "cell_type": "markdown",
   "metadata": {},
   "source": [
    "Now, the image is ready to label. \n",
    "\n",
    "__Q1__ For this you have two choices connected pixels labeling or watershed. Which makes more sense here?"
   ]
  },
  {
   "cell_type": "code",
   "execution_count": null,
   "metadata": {},
   "outputs": [],
   "source": [
    "lbl=             # write your labeling code here\n",
    "plt.imshow(lbl)"
   ]
  },
  {
   "cell_type": "markdown",
   "metadata": {},
   "source": [
    "No matter which method you chose. More regions than the round ones are labeled. We have to find a method to classify which ones we want to keep."
   ]
  },
  {
   "cell_type": "markdown",
   "metadata": {},
   "source": [
    "### Step 4: Identify the discs"
   ]
  },
  {
   "cell_type": "markdown",
   "metadata": {},
   "source": [
    "The first step is to measure some properties of different items. Use the library scikit.image function region properties to make measurements on the segmented regions.\n",
    "\n",
    "http://scikit-image.org/docs/dev/api/skimage.measure.html#skimage.measure.regionprops  \n",
    "\n",
    "Select pairs of scalar properties from the list and decide if they help you to identify the disks."
   ]
  },
  {
   "cell_type": "code",
   "execution_count": null,
   "metadata": {},
   "outputs": [],
   "source": [
    "m=measure.regionprops(lbl)\n",
    "p1=[]\n",
    "p2=[]\n",
    "for prop in m:\n",
    "    p1.append(prop.property1) # enter a property here\n",
    "    p2.append(prop.property2) # enter a different property here\n",
    "    \n",
    "plt.plot(p1,p2,'+')\n",
    "plt.xlabel('Property 1')\n",
    "plt.ylabel('Property 2')"
   ]
  },
  {
   "cell_type": "markdown",
   "metadata": {},
   "source": [
    "Selecting the item is done by applying thresholds on each property. Is done with help of the function below. Plese complete the test in the function  "
   ]
  },
  {
   "cell_type": "code",
   "execution_count": null,
   "metadata": {
    "collapsed": true
   },
   "outputs": [],
   "source": [
    "def selectItems(m,p1,p2,th1,th2) :\n",
    "    selection = []\n",
    "    for i in np.arange(0,len(p1)) :\n",
    "        if ((th1<p1[i]) & (th2<p2[i])) : # here you may have to modify the tests\n",
    "            selection.append(m[i])\n",
    "            \n",
    "    return selection"
   ]
  },
  {
   "cell_type": "code",
   "execution_count": null,
   "metadata": {},
   "outputs": [],
   "source": [
    "# Enter you thresholds here to test if the function works\n",
    "th1= # enter threshold for property 1 here\n",
    "th2= # enter threshold for property 2 here\n",
    "selection=selectItems(m,p1,p2,th1,th2) \n",
    "print('Found 14 items',len(selection)==14)"
   ]
  },
  {
   "cell_type": "markdown",
   "metadata": {},
   "source": [
    "### Step 5: Isolate the disks"
   ]
  },
  {
   "cell_type": "markdown",
   "metadata": {},
   "source": [
    "Morphological reconstruction is a method to extract the regions. For this to work you need to create a marker image using the positons of the disks. The marker is zero valued except on the centroids of each disk which has the value of disk label.\n",
    "\n",
    "__Q2__ What is the function of the reconstruction operator here?"
   ]
  },
  {
   "cell_type": "code",
   "execution_count": null,
   "metadata": {},
   "outputs": [],
   "source": [
    "marker=np.zeros(lbl.shape) # We start with a zero valued image\n",
    "\n",
    "for prop in selection :\n",
    "    x=np.round(prop.centroid[0]).astype(int)\n",
    "    y=np.round(prop.centroid[1]).astype(int)\n",
    "    marker[x,y]=        # enter a marker value here\n",
    "    \n",
    "final=morph.reconstruction(marker,lbl)\n",
    "plt.imshow(final)"
   ]
  },
  {
   "cell_type": "code",
   "execution_count": null,
   "metadata": {
    "collapsed": true
   },
   "outputs": [],
   "source": []
  }
 ],
 "metadata": {
  "kernelspec": {
   "display_name": "Python 3",
   "language": "python",
   "name": "python3"
  },
  "language_info": {
   "codemirror_mode": {
    "name": "ipython",
    "version": 3
   },
   "file_extension": ".py",
   "mimetype": "text/x-python",
   "name": "python",
   "nbconvert_exporter": "python",
   "pygments_lexer": "ipython3",
   "version": "3.7.3"
  }
 },
 "nbformat": 4,
 "nbformat_minor": 2
}
